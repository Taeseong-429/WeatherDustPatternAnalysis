{
 "cells": [
  {
   "cell_type": "markdown",
   "metadata": {},
   "source": [
    "# 미세먼지 데이터 전처리"
   ]
  },
  {
   "cell_type": "code",
   "execution_count": 1,
   "metadata": {},
   "outputs": [],
   "source": [
    "import pandas as pd\n",
    "import numpy as np"
   ]
  },
  {
   "cell_type": "markdown",
   "metadata": {},
   "source": [
    "## 2016년 1분기 미세먼지 데이터 확인"
   ]
  },
  {
   "cell_type": "code",
   "execution_count": 2,
   "metadata": {},
   "outputs": [],
   "source": [
    "df = pd.read_csv('2016/2016년 1분기.csv', encoding = 'cp949')"
   ]
  },
  {
   "cell_type": "code",
   "execution_count": 3,
   "metadata": {},
   "outputs": [
    {
     "name": "stdout",
     "output_type": "stream",
     "text": [
      "<class 'pandas.core.frame.DataFrame'>\n",
      "RangeIndex: 698880 entries, 0 to 698879\n",
      "Data columns (total 11 columns):\n",
      " #   Column  Non-Null Count   Dtype  \n",
      "---  ------  --------------   -----  \n",
      " 0   지역      698880 non-null  object \n",
      " 1   측정소코드   698880 non-null  int64  \n",
      " 2   측정소명    698880 non-null  object \n",
      " 3   측정일시    698880 non-null  int64  \n",
      " 4   SO2     672372 non-null  float64\n",
      " 5   CO      672071 non-null  float64\n",
      " 6   O3      676046 non-null  float64\n",
      " 7   NO2     680038 non-null  float64\n",
      " 8   PM10    681157 non-null  float64\n",
      " 9   PM25    305801 non-null  float64\n",
      " 10  주소      698880 non-null  object \n",
      "dtypes: float64(6), int64(2), object(3)\n",
      "memory usage: 58.7+ MB\n"
     ]
    }
   ],
   "source": [
    "df.info()"
   ]
  },
  {
   "cell_type": "markdown",
   "metadata": {},
   "source": [
    "## 데이터 전처리"
   ]
  },
  {
   "cell_type": "code",
   "execution_count": 4,
   "metadata": {},
   "outputs": [],
   "source": [
    "df['시도'] = df['지역'].apply(lambda x:x[:2])\n",
    "df['측정일시'] = df['측정일시'].astype('str')\n",
    "df['일시'] = df['측정일시'].apply(lambda x:x[:8])\n",
    "df = df.drop(['지역','측정소코드','측정소명','주소','측정일시'], axis = 1)\n",
    "df = df.replace(0, np.NaN)"
   ]
  },
  {
   "cell_type": "markdown",
   "metadata": {},
   "source": [
    "### 기하평균 함수 적용"
   ]
  },
  {
   "cell_type": "code",
   "execution_count": 5,
   "metadata": {},
   "outputs": [],
   "source": [
    "def geo_mean(iterable):\n",
    "    a = np.array(iterable)\n",
    "    a = a[~np.isnan(a)]\n",
    "    a = np.log(a)\n",
    "    return np.exp(a.sum()/len(a))"
   ]
  },
  {
   "cell_type": "code",
   "execution_count": 6,
   "metadata": {},
   "outputs": [
    {
     "name": "stderr",
     "output_type": "stream",
     "text": [
      "c:\\app\\python37\\lib\\site-packages\\ipykernel_launcher.py:5: RuntimeWarning: invalid value encountered in double_scalars\n",
      "  \"\"\"\n"
     ]
    }
   ],
   "source": [
    "df = df.groupby(['시도','일시']).agg(geo_mean)"
   ]
  },
  {
   "cell_type": "code",
   "execution_count": 7,
   "metadata": {},
   "outputs": [
    {
     "name": "stdout",
     "output_type": "stream",
     "text": [
      "<class 'pandas.core.frame.DataFrame'>\n",
      "MultiIndex: 1547 entries, ('강원', '20160101') to ('충북', '20160331')\n",
      "Data columns (total 6 columns):\n",
      " #   Column  Non-Null Count  Dtype  \n",
      "---  ------  --------------  -----  \n",
      " 0   SO2     1547 non-null   float64\n",
      " 1   CO      1547 non-null   float64\n",
      " 2   O3      1547 non-null   float64\n",
      " 3   NO2     1547 non-null   float64\n",
      " 4   PM10    1547 non-null   float64\n",
      " 5   PM25    1456 non-null   float64\n",
      "dtypes: float64(6)\n",
      "memory usage: 76.5+ KB\n"
     ]
    },
    {
     "data": {
      "text/html": [
       "<div>\n",
       "<style scoped>\n",
       "    .dataframe tbody tr th:only-of-type {\n",
       "        vertical-align: middle;\n",
       "    }\n",
       "\n",
       "    .dataframe tbody tr th {\n",
       "        vertical-align: top;\n",
       "    }\n",
       "\n",
       "    .dataframe thead th {\n",
       "        text-align: right;\n",
       "    }\n",
       "</style>\n",
       "<table border=\"1\" class=\"dataframe\">\n",
       "  <thead>\n",
       "    <tr style=\"text-align: right;\">\n",
       "      <th></th>\n",
       "      <th></th>\n",
       "      <th>SO2</th>\n",
       "      <th>CO</th>\n",
       "      <th>O3</th>\n",
       "      <th>NO2</th>\n",
       "      <th>PM10</th>\n",
       "      <th>PM25</th>\n",
       "    </tr>\n",
       "    <tr>\n",
       "      <th>시도</th>\n",
       "      <th>일시</th>\n",
       "      <th></th>\n",
       "      <th></th>\n",
       "      <th></th>\n",
       "      <th></th>\n",
       "      <th></th>\n",
       "      <th></th>\n",
       "    </tr>\n",
       "  </thead>\n",
       "  <tbody>\n",
       "    <tr>\n",
       "      <th rowspan=\"5\" valign=\"top\">강원</th>\n",
       "      <th>20160101</th>\n",
       "      <td>0.003358</td>\n",
       "      <td>0.717610</td>\n",
       "      <td>0.012746</td>\n",
       "      <td>0.016153</td>\n",
       "      <td>50.964868</td>\n",
       "      <td>42.369581</td>\n",
       "    </tr>\n",
       "    <tr>\n",
       "      <th>20160102</th>\n",
       "      <td>0.003589</td>\n",
       "      <td>0.617421</td>\n",
       "      <td>0.017016</td>\n",
       "      <td>0.013722</td>\n",
       "      <td>46.711979</td>\n",
       "      <td>37.520386</td>\n",
       "    </tr>\n",
       "    <tr>\n",
       "      <th>20160103</th>\n",
       "      <td>0.004811</td>\n",
       "      <td>0.882757</td>\n",
       "      <td>0.013789</td>\n",
       "      <td>0.016651</td>\n",
       "      <td>64.950720</td>\n",
       "      <td>53.703037</td>\n",
       "    </tr>\n",
       "    <tr>\n",
       "      <th>20160104</th>\n",
       "      <td>0.003965</td>\n",
       "      <td>0.650780</td>\n",
       "      <td>0.026051</td>\n",
       "      <td>0.014416</td>\n",
       "      <td>61.007831</td>\n",
       "      <td>46.295302</td>\n",
       "    </tr>\n",
       "    <tr>\n",
       "      <th>20160105</th>\n",
       "      <td>0.002832</td>\n",
       "      <td>0.435089</td>\n",
       "      <td>0.020151</td>\n",
       "      <td>0.011488</td>\n",
       "      <td>24.346586</td>\n",
       "      <td>15.479883</td>\n",
       "    </tr>\n",
       "  </tbody>\n",
       "</table>\n",
       "</div>"
      ],
      "text/plain": [
       "                  SO2        CO        O3       NO2       PM10       PM25\n",
       "시도 일시                                                                    \n",
       "강원 20160101  0.003358  0.717610  0.012746  0.016153  50.964868  42.369581\n",
       "   20160102  0.003589  0.617421  0.017016  0.013722  46.711979  37.520386\n",
       "   20160103  0.004811  0.882757  0.013789  0.016651  64.950720  53.703037\n",
       "   20160104  0.003965  0.650780  0.026051  0.014416  61.007831  46.295302\n",
       "   20160105  0.002832  0.435089  0.020151  0.011488  24.346586  15.479883"
      ]
     },
     "execution_count": 7,
     "metadata": {},
     "output_type": "execute_result"
    }
   ],
   "source": [
    "df.info()\n",
    "df.head()"
   ]
  },
  {
   "cell_type": "markdown",
   "metadata": {},
   "source": [
    "## 각 년도 미세먼지 데이터 전처리 및 병합"
   ]
  },
  {
   "cell_type": "code",
   "execution_count": 8,
   "metadata": {},
   "outputs": [
    {
     "name": "stderr",
     "output_type": "stream",
     "text": [
      "c:\\app\\python37\\lib\\site-packages\\ipykernel_launcher.py:5: RuntimeWarning: invalid value encountered in double_scalars\n",
      "  \"\"\"\n"
     ]
    }
   ],
   "source": [
    "temp = pd.DataFrame(columns=['시도','일시','SO2','CO','O3','NO2','PM10','PM25'])\n",
    "\n",
    "for i in [2016,2017,2018]:\n",
    "\n",
    "    for j in [1,2,3,4]:\n",
    "        \n",
    "        # 데이터 불러오기\n",
    "        df = pd.read_csv(f'{i}/{i}년 {j}분기.csv', encoding = 'cp949')\n",
    "        \n",
    "        # 시도 컬럼 생성\n",
    "        df['시도'] = df['지역'].apply(lambda x:x[:2])\n",
    "        \n",
    "        # 측정일시 칼럼 시간 -> 일 단위로 변경\n",
    "        df['측정일시'] = df['측정일시'].astype('str')\n",
    "        df['일시'] = df['측정일시'].apply(lambda x:x[:8])\n",
    "\n",
    "        # 불필요한 칼럼 제거\n",
    "        df = df.drop(['지역','측정소코드','측정소명','주소','측정일시'], axis = 1)\n",
    "\n",
    "        # 0인 값 결측치로 처리\n",
    "        df = df.replace(0, np.NaN)\n",
    "        \n",
    "        # 일 평균 데이터로 변환\n",
    "        # 기하평균 적용\n",
    "        df = df.groupby(['시도','일시']).agg(geo_mean).reset_index()\n",
    "        \n",
    "        # 일시 칼럼 타입 변경\n",
    "        df['일시'] = pd.to_datetime(df['일시'], format='%Y-%m-%d')\n",
    "        \n",
    "        temp = temp.append(df, ignore_index = True)\n",
    "        \n",
    "        pass\n",
    "    \n",
    "    pass\n",
    "\n",
    "temp.to_csv('dust.csv', encoding = 'utf8', index = False)"
   ]
  },
  {
   "cell_type": "markdown",
   "metadata": {},
   "source": [
    "## 결측치 확인 및 처리"
   ]
  },
  {
   "cell_type": "code",
   "execution_count": 9,
   "metadata": {},
   "outputs": [],
   "source": [
    "df = pd.read_csv('dust.csv')"
   ]
  },
  {
   "cell_type": "markdown",
   "metadata": {},
   "source": [
    "### 결측치 확인"
   ]
  },
  {
   "cell_type": "code",
   "execution_count": 10,
   "metadata": {},
   "outputs": [
    {
     "name": "stdout",
     "output_type": "stream",
     "text": [
      "Empty DataFrame\n",
      "Columns: [시도, 일시, SO2, CO, O3, NO2, PM10, PM25]\n",
      "Index: []\n",
      "Empty DataFrame\n",
      "Columns: [시도, 일시, SO2, CO, O3, NO2, PM10, PM25]\n",
      "Index: []\n",
      "Empty DataFrame\n",
      "Columns: [시도, 일시, SO2, CO, O3, NO2, PM10, PM25]\n",
      "Index: []\n",
      "Empty DataFrame\n",
      "Columns: [시도, 일시, SO2, CO, O3, NO2, PM10, PM25]\n",
      "Index: []\n",
      "Empty DataFrame\n",
      "Columns: [시도, 일시, SO2, CO, O3, NO2, PM10, PM25]\n",
      "Index: []\n",
      "       시도          일시       SO2        CO        O3       NO2       PM10  PM25\n",
      "819    세종  2016-01-01  0.003247  1.038007  0.010429  0.024375  59.129622   NaN\n",
      "820    세종  2016-01-02  0.003851  0.920347  0.012311  0.025407  50.912560   NaN\n",
      "821    세종  2016-01-03  0.003356  1.006733  0.011697  0.023761  65.312262   NaN\n",
      "822    세종  2016-01-04  0.005736  0.861132  0.027744  0.021746  57.256727   NaN\n",
      "823    세종  2016-01-05  0.005067  0.652506  0.017043  0.024010  31.917832   NaN\n",
      "...    ..         ...       ...       ...       ...       ...        ...   ...\n",
      "2392   세종  2016-04-27  0.001594  0.402582  0.037483  0.014116  39.137141   NaN\n",
      "2393   세종  2016-04-28  0.001864  0.348411  0.033638  0.014576  31.160152   NaN\n",
      "2394   세종  2016-04-29  0.002174  0.413231  0.035948  0.014328  52.114254   NaN\n",
      "2395   세종  2016-04-30  0.002731  0.465045  0.050157  0.011600  56.072313   NaN\n",
      "16845  제주  2018-08-23  0.001067  0.138722  0.023250  0.001788   6.000000   NaN\n",
      "\n",
      "[122 rows x 8 columns]\n"
     ]
    }
   ],
   "source": [
    "print(df[df['SO2'].isnull()==True])\n",
    "print(df[df['CO'].isnull()==True])\n",
    "print(df[df['O3'].isnull()==True])\n",
    "print(df[df['NO2'].isnull()==True])\n",
    "print(df[df['PM10'].isnull()==True])\n",
    "print(df[df['PM25'].isnull()==True])"
   ]
  },
  {
   "cell_type": "markdown",
   "metadata": {},
   "source": [
    "### 세종 초미세먼지 결측치 처리"
   ]
  },
  {
   "cell_type": "code",
   "execution_count": 11,
   "metadata": {},
   "outputs": [],
   "source": [
    "# 2016년 1분기 및 2분기(1~4월) 데이터 불러오기\n",
    "\n",
    "dust_1Q = pd.read_csv('2016/2016년 1분기.csv', encoding = 'cp949')\n",
    "dust_2Q = pd.read_csv('2016/2016년 2분기.csv', encoding = 'cp949')\n",
    "\n",
    "dust =pd.concat([dust_1Q,dust_2Q],ignore_index= True)"
   ]
  },
  {
   "cell_type": "code",
   "execution_count": 12,
   "metadata": {},
   "outputs": [],
   "source": [
    "# 시도와 시군구 칼럼 추가\n",
    "\n",
    "dust['측정일시'] = dust['측정일시'].astype('str')\n",
    "dust['일시'] = pd.to_datetime(dust['측정일시'].apply(lambda x:x[:8]), format='%Y-%m-%d')\n",
    "dust['시도'] = dust['지역'].agg(lambda x:x[:2])\n",
    "dust['시군구'] = dust['지역'].agg(lambda x:x[3:5])"
   ]
  },
  {
   "cell_type": "code",
   "execution_count": 13,
   "metadata": {},
   "outputs": [
    {
     "name": "stderr",
     "output_type": "stream",
     "text": [
      "c:\\app\\python37\\lib\\site-packages\\ipykernel_launcher.py:5: RuntimeWarning: invalid value encountered in double_scalars\n",
      "  \"\"\"\n"
     ]
    }
   ],
   "source": [
    "dust[(dust['시도']== '대전') | (dust['시군구'] == '청주')]\n",
    "dust = dust.replace(0, np.NaN)\n",
    "PM25_sejong = dust[['일시','PM25']].groupby('일시').agg(geo_mean).reset_index()\n",
    "PM25_sejong['시도'] = '세종'"
   ]
  },
  {
   "cell_type": "code",
   "execution_count": 14,
   "metadata": {},
   "outputs": [],
   "source": [
    "PM25_sejong['일시'] = PM25_sejong['일시'].astype('str')"
   ]
  },
  {
   "cell_type": "code",
   "execution_count": 15,
   "metadata": {},
   "outputs": [],
   "source": [
    "df = pd.merge(df, PM25_sejong, how='left', on=['시도','일시'])\n",
    "df['PM25'] = df['PM25_x'].replace(np.NaN, df['PM25_y'])\n",
    "df = df.drop(['PM25_x','PM25_y'], axis = 1)"
   ]
  },
  {
   "cell_type": "code",
   "execution_count": 16,
   "metadata": {},
   "outputs": [
    {
     "data": {
      "text/html": [
       "<div>\n",
       "<style scoped>\n",
       "    .dataframe tbody tr th:only-of-type {\n",
       "        vertical-align: middle;\n",
       "    }\n",
       "\n",
       "    .dataframe tbody tr th {\n",
       "        vertical-align: top;\n",
       "    }\n",
       "\n",
       "    .dataframe thead th {\n",
       "        text-align: right;\n",
       "    }\n",
       "</style>\n",
       "<table border=\"1\" class=\"dataframe\">\n",
       "  <thead>\n",
       "    <tr style=\"text-align: right;\">\n",
       "      <th></th>\n",
       "      <th>시도</th>\n",
       "      <th>일시</th>\n",
       "      <th>SO2</th>\n",
       "      <th>CO</th>\n",
       "      <th>O3</th>\n",
       "      <th>NO2</th>\n",
       "      <th>PM10</th>\n",
       "      <th>PM25</th>\n",
       "    </tr>\n",
       "  </thead>\n",
       "  <tbody>\n",
       "    <tr>\n",
       "      <th>16845</th>\n",
       "      <td>제주</td>\n",
       "      <td>2018-08-23</td>\n",
       "      <td>0.001067</td>\n",
       "      <td>0.138722</td>\n",
       "      <td>0.02325</td>\n",
       "      <td>0.001788</td>\n",
       "      <td>6.0</td>\n",
       "      <td>NaN</td>\n",
       "    </tr>\n",
       "  </tbody>\n",
       "</table>\n",
       "</div>"
      ],
      "text/plain": [
       "       시도          일시       SO2        CO       O3       NO2  PM10  PM25\n",
       "16845  제주  2018-08-23  0.001067  0.138722  0.02325  0.001788   6.0   NaN"
      ]
     },
     "execution_count": 16,
     "metadata": {},
     "output_type": "execute_result"
    }
   ],
   "source": [
    "df[df['PM25'].isnull() == True]"
   ]
  },
  {
   "cell_type": "markdown",
   "metadata": {},
   "source": [
    "### 제주 초미세먼지 결측치 처리"
   ]
  },
  {
   "cell_type": "code",
   "execution_count": 17,
   "metadata": {},
   "outputs": [],
   "source": [
    "jeju = df[(df['시도'] =='제주')]"
   ]
  },
  {
   "cell_type": "code",
   "execution_count": 18,
   "metadata": {},
   "outputs": [
    {
     "data": {
      "text/plain": [
       "11.339777817683828"
      ]
     },
     "execution_count": 18,
     "metadata": {},
     "output_type": "execute_result"
    }
   ],
   "source": [
    "geo_mean(jeju[jeju['일시'].str.startswith('2018-08')]['PM25'])"
   ]
  },
  {
   "cell_type": "code",
   "execution_count": 19,
   "metadata": {},
   "outputs": [],
   "source": [
    "df = df.fillna(11.339777817683828)"
   ]
  },
  {
   "cell_type": "code",
   "execution_count": 20,
   "metadata": {},
   "outputs": [
    {
     "data": {
      "text/html": [
       "<div>\n",
       "<style scoped>\n",
       "    .dataframe tbody tr th:only-of-type {\n",
       "        vertical-align: middle;\n",
       "    }\n",
       "\n",
       "    .dataframe tbody tr th {\n",
       "        vertical-align: top;\n",
       "    }\n",
       "\n",
       "    .dataframe thead th {\n",
       "        text-align: right;\n",
       "    }\n",
       "</style>\n",
       "<table border=\"1\" class=\"dataframe\">\n",
       "  <thead>\n",
       "    <tr style=\"text-align: right;\">\n",
       "      <th></th>\n",
       "      <th>시도</th>\n",
       "      <th>일시</th>\n",
       "      <th>SO2</th>\n",
       "      <th>CO</th>\n",
       "      <th>O3</th>\n",
       "      <th>NO2</th>\n",
       "      <th>PM10</th>\n",
       "      <th>PM25</th>\n",
       "    </tr>\n",
       "  </thead>\n",
       "  <tbody>\n",
       "  </tbody>\n",
       "</table>\n",
       "</div>"
      ],
      "text/plain": [
       "Empty DataFrame\n",
       "Columns: [시도, 일시, SO2, CO, O3, NO2, PM10, PM25]\n",
       "Index: []"
      ]
     },
     "execution_count": 20,
     "metadata": {},
     "output_type": "execute_result"
    }
   ],
   "source": [
    "df[df['PM25'].isnull() == True]"
   ]
  },
  {
   "cell_type": "markdown",
   "metadata": {},
   "source": [
    "## 전처리 된 데이터 저장"
   ]
  },
  {
   "cell_type": "code",
   "execution_count": 21,
   "metadata": {},
   "outputs": [],
   "source": [
    "df.to_csv('dust_Fixed.csv')"
   ]
  }
 ],
 "metadata": {
  "kernelspec": {
   "display_name": "Python 3",
   "language": "python",
   "name": "python3"
  },
  "language_info": {
   "codemirror_mode": {
    "name": "ipython",
    "version": 3
   },
   "file_extension": ".py",
   "mimetype": "text/x-python",
   "name": "python",
   "nbconvert_exporter": "python",
   "pygments_lexer": "ipython3",
   "version": "3.7.6"
  }
 },
 "nbformat": 4,
 "nbformat_minor": 4
}
