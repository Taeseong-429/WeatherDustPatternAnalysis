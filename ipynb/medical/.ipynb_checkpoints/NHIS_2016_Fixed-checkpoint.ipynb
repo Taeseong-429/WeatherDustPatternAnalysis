{
 "cells": [
  {
   "cell_type": "code",
   "execution_count": 11,
   "metadata": {},
   "outputs": [],
   "source": [
    "import pandas as pd\n",
    "import matplotlib.pyplot as plt\n",
    "import numpy as np\n",
    "import re\n",
    "%matplotlib inline"
   ]
  },
  {
   "cell_type": "code",
   "execution_count": 12,
   "metadata": {},
   "outputs": [],
   "source": [
    "df = pd.read_csv('../../lawdata/medical/NHIS_Data_2017_Fixed.csv')"
   ]
  },
  {
   "cell_type": "code",
   "execution_count": 13,
   "metadata": {},
   "outputs": [
    {
     "name": "stdout",
     "output_type": "stream",
     "text": [
      "<class 'pandas.core.frame.DataFrame'>\n",
      "RangeIndex: 12568532 entries, 0 to 12568531\n",
      "Data columns (total 12 columns):\n",
      " #   Column    Dtype \n",
      "---  ------    ----- \n",
      " 0   가입자 일련번호  int64 \n",
      " 1   진료내역일련번호  int64 \n",
      " 2   성별코드      int64 \n",
      " 3   연령대코드     int64 \n",
      " 4   시도코드      int64 \n",
      " 5   요양개시일자    int64 \n",
      " 6   서식코드      int64 \n",
      " 7   진료과목코드    int64 \n",
      " 8   주상병코드     object\n",
      " 9   부상병코드     object\n",
      " 10  입내원일수     int64 \n",
      " 11  총처방일수     int64 \n",
      "dtypes: int64(10), object(2)\n",
      "memory usage: 1.1+ GB\n"
     ]
    }
   ],
   "source": [
    "df.info()"
   ]
  },
  {
   "cell_type": "code",
   "execution_count": 14,
   "metadata": {},
   "outputs": [
    {
     "data": {
      "text/html": [
       "<div>\n",
       "<style scoped>\n",
       "    .dataframe tbody tr th:only-of-type {\n",
       "        vertical-align: middle;\n",
       "    }\n",
       "\n",
       "    .dataframe tbody tr th {\n",
       "        vertical-align: top;\n",
       "    }\n",
       "\n",
       "    .dataframe thead th {\n",
       "        text-align: right;\n",
       "    }\n",
       "</style>\n",
       "<table border=\"1\" class=\"dataframe\">\n",
       "  <thead>\n",
       "    <tr style=\"text-align: right;\">\n",
       "      <th></th>\n",
       "      <th>가입자 일련번호</th>\n",
       "      <th>진료내역일련번호</th>\n",
       "      <th>성별코드</th>\n",
       "      <th>연령대코드</th>\n",
       "      <th>시도코드</th>\n",
       "      <th>요양개시일자</th>\n",
       "      <th>서식코드</th>\n",
       "      <th>진료과목코드</th>\n",
       "      <th>주상병코드</th>\n",
       "      <th>부상병코드</th>\n",
       "      <th>입내원일수</th>\n",
       "      <th>총처방일수</th>\n",
       "    </tr>\n",
       "  </thead>\n",
       "  <tbody>\n",
       "    <tr>\n",
       "      <th>0</th>\n",
       "      <td>1</td>\n",
       "      <td>4661608</td>\n",
       "      <td>1</td>\n",
       "      <td>5</td>\n",
       "      <td>11</td>\n",
       "      <td>20170316</td>\n",
       "      <td>3</td>\n",
       "      <td>13</td>\n",
       "      <td>J060</td>\n",
       "      <td>R51</td>\n",
       "      <td>1</td>\n",
       "      <td>3</td>\n",
       "    </tr>\n",
       "    <tr>\n",
       "      <th>1</th>\n",
       "      <td>1</td>\n",
       "      <td>14468123</td>\n",
       "      <td>1</td>\n",
       "      <td>5</td>\n",
       "      <td>11</td>\n",
       "      <td>20170123</td>\n",
       "      <td>3</td>\n",
       "      <td>1</td>\n",
       "      <td>R51</td>\n",
       "      <td>K297</td>\n",
       "      <td>1</td>\n",
       "      <td>3</td>\n",
       "    </tr>\n",
       "    <tr>\n",
       "      <th>2</th>\n",
       "      <td>1</td>\n",
       "      <td>22980223</td>\n",
       "      <td>1</td>\n",
       "      <td>5</td>\n",
       "      <td>11</td>\n",
       "      <td>20170404</td>\n",
       "      <td>3</td>\n",
       "      <td>13</td>\n",
       "      <td>J0190</td>\n",
       "      <td>J060</td>\n",
       "      <td>1</td>\n",
       "      <td>3</td>\n",
       "    </tr>\n",
       "    <tr>\n",
       "      <th>3</th>\n",
       "      <td>1</td>\n",
       "      <td>23050697</td>\n",
       "      <td>1</td>\n",
       "      <td>5</td>\n",
       "      <td>11</td>\n",
       "      <td>20170407</td>\n",
       "      <td>3</td>\n",
       "      <td>13</td>\n",
       "      <td>J0190</td>\n",
       "      <td>J060</td>\n",
       "      <td>1</td>\n",
       "      <td>3</td>\n",
       "    </tr>\n",
       "    <tr>\n",
       "      <th>4</th>\n",
       "      <td>1</td>\n",
       "      <td>29517148</td>\n",
       "      <td>1</td>\n",
       "      <td>5</td>\n",
       "      <td>11</td>\n",
       "      <td>20170516</td>\n",
       "      <td>3</td>\n",
       "      <td>14</td>\n",
       "      <td>L309</td>\n",
       "      <td>L301</td>\n",
       "      <td>1</td>\n",
       "      <td>7</td>\n",
       "    </tr>\n",
       "  </tbody>\n",
       "</table>\n",
       "</div>"
      ],
      "text/plain": [
       "   가입자 일련번호  진료내역일련번호  성별코드  연령대코드  시도코드    요양개시일자  서식코드  진료과목코드  주상병코드 부상병코드  \\\n",
       "0         1   4661608     1      5    11  20170316     3      13   J060   R51   \n",
       "1         1  14468123     1      5    11  20170123     3       1    R51  K297   \n",
       "2         1  22980223     1      5    11  20170404     3      13  J0190  J060   \n",
       "3         1  23050697     1      5    11  20170407     3      13  J0190  J060   \n",
       "4         1  29517148     1      5    11  20170516     3      14   L309  L301   \n",
       "\n",
       "   입내원일수  총처방일수  \n",
       "0      1      3  \n",
       "1      1      3  \n",
       "2      1      3  \n",
       "3      1      3  \n",
       "4      1      7  "
      ]
     },
     "execution_count": 14,
     "metadata": {},
     "output_type": "execute_result"
    }
   ],
   "source": [
    "df.head()"
   ]
  },
  {
   "cell_type": "code",
   "execution_count": 15,
   "metadata": {},
   "outputs": [],
   "source": [
    "def ill(x):\n",
    "    str = x[:3]\n",
    "    de = re.findall(r'([A-Z])([_]?)(\\d{2})?', str)\n",
    "    for n, d, t in de:\n",
    "        if t == '':\n",
    "            t = 0\n",
    "        if n == 'A' or n == 'B':\n",
    "            return 'AB'\n",
    "        elif n == 'C' or (n == 'D' and int(t) <= 48):\n",
    "            return 'CD48'\n",
    "        elif n == 'D':\n",
    "            return 'D50'\n",
    "        elif n == 'H':\n",
    "            if int(t) < 60:\n",
    "                return 'H59'\n",
    "            elif int(t) >= 60:\n",
    "                return 'H60'\n",
    "        elif n == ('S' or 'T'):\n",
    "            return 'ST'\n",
    "        elif n == ('V' or 'Y'):\n",
    "            return 'VY'\n",
    "        elif n == (n.startswith('F')):\n",
    "            return 'F'\n",
    "        else:\n",
    "            return n\n",
    "        pass\n",
    "    pass"
   ]
  },
  {
   "cell_type": "code",
   "execution_count": 16,
   "metadata": {},
   "outputs": [],
   "source": [
    "df['질병코드'] = df['주상병코드'].apply(ill)"
   ]
  },
  {
   "cell_type": "code",
   "execution_count": 17,
   "metadata": {},
   "outputs": [
    {
     "data": {
      "text/html": [
       "<div>\n",
       "<style scoped>\n",
       "    .dataframe tbody tr th:only-of-type {\n",
       "        vertical-align: middle;\n",
       "    }\n",
       "\n",
       "    .dataframe tbody tr th {\n",
       "        vertical-align: top;\n",
       "    }\n",
       "\n",
       "    .dataframe thead th {\n",
       "        text-align: right;\n",
       "    }\n",
       "</style>\n",
       "<table border=\"1\" class=\"dataframe\">\n",
       "  <thead>\n",
       "    <tr style=\"text-align: right;\">\n",
       "      <th></th>\n",
       "      <th>가입자 일련번호</th>\n",
       "      <th>진료내역일련번호</th>\n",
       "      <th>성별코드</th>\n",
       "      <th>연령대코드</th>\n",
       "      <th>시도코드</th>\n",
       "      <th>요양개시일자</th>\n",
       "      <th>서식코드</th>\n",
       "      <th>진료과목코드</th>\n",
       "      <th>주상병코드</th>\n",
       "      <th>부상병코드</th>\n",
       "      <th>입내원일수</th>\n",
       "      <th>총처방일수</th>\n",
       "      <th>질병코드</th>\n",
       "    </tr>\n",
       "  </thead>\n",
       "  <tbody>\n",
       "    <tr>\n",
       "      <th>0</th>\n",
       "      <td>1</td>\n",
       "      <td>4661608</td>\n",
       "      <td>1</td>\n",
       "      <td>5</td>\n",
       "      <td>11</td>\n",
       "      <td>20170316</td>\n",
       "      <td>3</td>\n",
       "      <td>13</td>\n",
       "      <td>J060</td>\n",
       "      <td>R51</td>\n",
       "      <td>1</td>\n",
       "      <td>3</td>\n",
       "      <td>J</td>\n",
       "    </tr>\n",
       "    <tr>\n",
       "      <th>1</th>\n",
       "      <td>1</td>\n",
       "      <td>14468123</td>\n",
       "      <td>1</td>\n",
       "      <td>5</td>\n",
       "      <td>11</td>\n",
       "      <td>20170123</td>\n",
       "      <td>3</td>\n",
       "      <td>1</td>\n",
       "      <td>R51</td>\n",
       "      <td>K297</td>\n",
       "      <td>1</td>\n",
       "      <td>3</td>\n",
       "      <td>R</td>\n",
       "    </tr>\n",
       "    <tr>\n",
       "      <th>2</th>\n",
       "      <td>1</td>\n",
       "      <td>22980223</td>\n",
       "      <td>1</td>\n",
       "      <td>5</td>\n",
       "      <td>11</td>\n",
       "      <td>20170404</td>\n",
       "      <td>3</td>\n",
       "      <td>13</td>\n",
       "      <td>J0190</td>\n",
       "      <td>J060</td>\n",
       "      <td>1</td>\n",
       "      <td>3</td>\n",
       "      <td>J</td>\n",
       "    </tr>\n",
       "    <tr>\n",
       "      <th>3</th>\n",
       "      <td>1</td>\n",
       "      <td>23050697</td>\n",
       "      <td>1</td>\n",
       "      <td>5</td>\n",
       "      <td>11</td>\n",
       "      <td>20170407</td>\n",
       "      <td>3</td>\n",
       "      <td>13</td>\n",
       "      <td>J0190</td>\n",
       "      <td>J060</td>\n",
       "      <td>1</td>\n",
       "      <td>3</td>\n",
       "      <td>J</td>\n",
       "    </tr>\n",
       "    <tr>\n",
       "      <th>4</th>\n",
       "      <td>1</td>\n",
       "      <td>29517148</td>\n",
       "      <td>1</td>\n",
       "      <td>5</td>\n",
       "      <td>11</td>\n",
       "      <td>20170516</td>\n",
       "      <td>3</td>\n",
       "      <td>14</td>\n",
       "      <td>L309</td>\n",
       "      <td>L301</td>\n",
       "      <td>1</td>\n",
       "      <td>7</td>\n",
       "      <td>L</td>\n",
       "    </tr>\n",
       "  </tbody>\n",
       "</table>\n",
       "</div>"
      ],
      "text/plain": [
       "   가입자 일련번호  진료내역일련번호  성별코드  연령대코드  시도코드    요양개시일자  서식코드  진료과목코드  주상병코드 부상병코드  \\\n",
       "0         1   4661608     1      5    11  20170316     3      13   J060   R51   \n",
       "1         1  14468123     1      5    11  20170123     3       1    R51  K297   \n",
       "2         1  22980223     1      5    11  20170404     3      13  J0190  J060   \n",
       "3         1  23050697     1      5    11  20170407     3      13  J0190  J060   \n",
       "4         1  29517148     1      5    11  20170516     3      14   L309  L301   \n",
       "\n",
       "   입내원일수  총처방일수 질병코드  \n",
       "0      1      3    J  \n",
       "1      1      3    R  \n",
       "2      1      3    J  \n",
       "3      1      3    J  \n",
       "4      1      7    L  "
      ]
     },
     "execution_count": 17,
     "metadata": {},
     "output_type": "execute_result"
    }
   ],
   "source": [
    "df.head()"
   ]
  },
  {
   "cell_type": "code",
   "execution_count": 18,
   "metadata": {},
   "outputs": [
    {
     "data": {
      "text/plain": [
       "array(['J', 'R', 'L', 'H60', 'AB', 'K', 'M', 'H59', 'ST', 'N', 'T', 'G',\n",
       "       'I', 'CD48', 'F', 'E', 'O', 'Z', 'D50', 'Q', 'P', 'U'],\n",
       "      dtype=object)"
      ]
     },
     "execution_count": 18,
     "metadata": {},
     "output_type": "execute_result"
    }
   ],
   "source": [
    "df['질병코드'].unique()"
   ]
  },
  {
   "cell_type": "code",
   "execution_count": 19,
   "metadata": {},
   "outputs": [
    {
     "data": {
      "text/plain": [
       "'AB'"
      ]
     },
     "execution_count": 19,
     "metadata": {},
     "output_type": "execute_result"
    }
   ],
   "source": [
    "ill('B029')"
   ]
  },
  {
   "cell_type": "code",
   "execution_count": 20,
   "metadata": {},
   "outputs": [
    {
     "name": "stdout",
     "output_type": "stream",
     "text": [
      "[('B', '', '02')]\n"
     ]
    }
   ],
   "source": [
    "print(re.findall(r'([A-Z])([_]?)(\\d{2})?', \"B029\"))"
   ]
  },
  {
   "cell_type": "code",
   "execution_count": 21,
   "metadata": {},
   "outputs": [
    {
     "name": "stdout",
     "output_type": "stream",
     "text": [
      "2\n"
     ]
    }
   ],
   "source": [
    "print(len('F_'[0:3]))"
   ]
  },
  {
   "cell_type": "code",
   "execution_count": 30,
   "metadata": {},
   "outputs": [],
   "source": [
    "df.to_csv('../../lawdata/medical/NHIS_Data_2017_Fix.csv', encoding = 'utf8', index = False)"
   ]
  },
  {
   "cell_type": "code",
   "execution_count": null,
   "metadata": {},
   "outputs": [],
   "source": [
    "for i in [2016,2017,2018]:\n",
    "    if i == 2016:\n",
    "        df = pd.read_csv(f'../../lawdata/medical/NHIS_Data_{i}_Fixed.csv', encoding = 'cp949')\n",
    "        pass\n",
    "    \n",
    "    else :\n",
    "        df = pd.read_csv(f'../../lawdata/medical/NHIS_Data_{i}_Fixed.csv')\n",
    "        pass\n",
    "    \n",
    "    df['질병코드'] = df['주상병코드'].apply(ill)\n",
    "    \n",
    "    df.to_csv(f'../../lawdata/medical/NHIS_Data_{i}_Fix.csv', encoding = 'utf8', index = False)\n",
    "    \n",
    "    pass\n",
    "    \n",
    "    "
   ]
  },
  {
   "cell_type": "code",
   "execution_count": null,
   "metadata": {},
   "outputs": [],
   "source": [
    "def month_Fixed(vec):\n",
    "    vec = vec[:6]\n",
    "    return vec"
   ]
  },
  {
   "cell_type": "code",
   "execution_count": null,
   "metadata": {},
   "outputs": [],
   "source": [
    "def month(x):\n",
    "    return re.compile('(\\d{4})(\\d{2})(\\d{2})').sub('\\g<1>-\\g<2>', str(x))\n",
    "    "
   ]
  },
  {
   "cell_type": "code",
   "execution_count": null,
   "metadata": {},
   "outputs": [],
   "source": [
    "df['요양개시일자']"
   ]
  },
  {
   "cell_type": "code",
   "execution_count": null,
   "metadata": {},
   "outputs": [],
   "source": [
    "# df_ill_j2022.요양개시일자.astype('datetime64[ns]')\n",
    "#df['요양개시일자(월별)']=df['요양개시일자'].apply(to_month())\n",
    "# df['요양개시일자(월별)']=pd.to_string(df['요양개시일자'].apply(lambda x: x[:6]))\n",
    "df['요양개시일자(월별)']=df['요양개시일자'].apply(month)\n",
    "\n",
    "df_ill_j2022 = df[df['주상병코드'].str.contains('J01|J20|J21|J22', regex=True)]"
   ]
  },
  {
   "cell_type": "code",
   "execution_count": null,
   "metadata": {},
   "outputs": [],
   "source": [
    "df_ill_j2022.head()"
   ]
  },
  {
   "cell_type": "code",
   "execution_count": null,
   "metadata": {},
   "outputs": [],
   "source": [
    "df_ill_j2022.info()"
   ]
  },
  {
   "cell_type": "code",
   "execution_count": null,
   "metadata": {},
   "outputs": [],
   "source": [
    "# Evolution of M Cases (2016)\n",
    "df_ill_M = df[df['주상병코드'].str.contains('M', regex=True)]\n",
    "df_count_month=df_ill_M.groupby('요양개시일자(월별)')['주상병코드'].count()\n",
    "\n",
    "\n",
    "f, ax = plt.subplots(figsize = (20, 7))\n",
    "sns.lineplot(x = df_count_month.index,\n",
    "             y = '주상병코드',\n",
    "              data = df_count_month.to_frame())\n",
    "plt.grid(True)\n",
    "plt.xlabel('Month', fontsize=12 )\n",
    "plt.ylabel('Number of Cases', fontsize=12)\n",
    "plt.title('Evolution of M Cases (2016)', fontsize=16)\n"
   ]
  },
  {
   "cell_type": "code",
   "execution_count": null,
   "metadata": {},
   "outputs": [],
   "source": [
    "# Evolution of I Cases (2016)\n",
    "df_ill_I = df[df['주상병코드'].str.contains('I', regex=True)]\n",
    "df_count_month=df_ill_I.groupby('요양개시일자(월별)')['주상병코드'].count()\n",
    "\n",
    "\n",
    "f, ax = plt.subplots(figsize = (20, 7))\n",
    "sns.lineplot(x = df_count_month.index,\n",
    "             y = '주상병코드',\n",
    "              data = df_count_month.to_frame())\n",
    "plt.grid(True)\n",
    "plt.xlabel('Month', fontsize=12 )\n",
    "plt.ylabel('Number of Cases', fontsize=12)\n",
    "plt.title('Evolution of I Cases (2016)', fontsize=16)\n"
   ]
  },
  {
   "cell_type": "code",
   "execution_count": null,
   "metadata": {},
   "outputs": [],
   "source": [
    "df_ill_full_J = df[df['주상병코드'].str.contains('J', regex=True)]\n",
    "df_ill_full_J.to_csv('df_J_cases.csv', encoding = 'cp949')"
   ]
  },
  {
   "cell_type": "code",
   "execution_count": null,
   "metadata": {},
   "outputs": [],
   "source": [
    "# Evolution of all J-Type Cases (2016)\n",
    "df_ill_full_J = df[df['주상병코드'].str.contains('J', regex=True)]\n",
    "\n",
    "df_count_month=df_ill_full_J.groupby('요양개시일자(월별)')['주상병코드'].count()\n",
    "\n",
    "\n",
    "f, ax = plt.subplots(figsize = (20, 7))\n",
    "sns.lineplot(x = df_count_month.index,\n",
    "             y = '주상병코드',\n",
    "              data = df_count_month.to_frame())\n",
    "plt.grid(True)\n",
    "plt.xlabel('Month', fontsize=12 )\n",
    "plt.ylabel('Number of Cases', fontsize=12)\n",
    "plt.title('Evolution of all J-Type Cases (2016)', fontsize=16)\n",
    "\n",
    "\n"
   ]
  },
  {
   "cell_type": "code",
   "execution_count": null,
   "metadata": {},
   "outputs": [],
   "source": [
    "\n",
    "\n",
    "\n",
    "print('='*70)\n",
    "\n",
    "\n",
    "\n",
    "f, ax = plt.subplots(figsize = (20, 7))\n",
    "plt.grid()\n",
    "sns.countplot(x = '요양개시일자',\n",
    "              data = df_ill_j2022)\n",
    "plt.show()\n",
    "\n",
    "print('='*70)\n",
    "\n",
    "df_count=df_ill_j2022.groupby('요양개시일자').count()\n",
    "\n",
    "f, ax = plt.subplots(figsize = (20, 7))\n",
    "plt.grid()\n",
    "sns.lineplot(x = df_count.index,\n",
    "             y = '가입자일련번호',\n",
    "              data = df_count)"
   ]
  },
  {
   "cell_type": "code",
   "execution_count": null,
   "metadata": {},
   "outputs": [],
   "source": [
    "\n",
    "cities = ['Seoul', 'Busan', 'Daegu', 'Incheon', 'Gwangju', 'Daejeon', 'Ulsan', 'Sejong', 'Gyeongi-do', 'Gangwon-do', 'Chungcheongbuk-do',\n",
    "           'Chungcheongnam-do', 'Jeollabuk-do', 'Jeollanam-do', 'Gyeongsangbuk-do', 'Gyeongsangnam-do', 'Jeju-do']\n",
    "\n",
    "plt.subplots(figsize=(20, 7))\n",
    "plt.grid(zorder = 1)\n",
    "sns.countplot(x = '시도코드', orient = 'v', data = df_ill_full_J, zorder = 2, order = df_ill_full_J['시도코드'].value_counts().index )\n",
    "plt.xticks(np.arange(17), cities, rotation = 45)\n",
    "plt.xlabel('City Code', fontsize=12 )\n",
    "plt.ylabel('Number of Cases', fontsize=12)\n",
    "plt.title('Number of All J - Type Cases By City(2016)', fontsize=16)\n",
    "plt.show()\n",
    "plt.savefig('test')\n",
    "#type(group_ill_j2022_frame.plot.bar())"
   ]
  },
  {
   "cell_type": "code",
   "execution_count": null,
   "metadata": {},
   "outputs": [],
   "source": [
    "df['질병코드'] = df['주상병코드'].apply(ill)"
   ]
  },
  {
   "cell_type": "code",
   "execution_count": null,
   "metadata": {},
   "outputs": [],
   "source": [
    "df.head()"
   ]
  },
  {
   "cell_type": "code",
   "execution_count": null,
   "metadata": {},
   "outputs": [],
   "source": [
    "\n",
    "plt.subplots(figsize=(20, 7))\n",
    "plt.grid(zorder = 1)\n",
    "sns.countplot(x = '질병코드', data = df, dodge=False, zorder=2, order = df['질병코드'].value_counts().index)\n",
    "plt.xlabel('Illness Classification', fontsize = 12)\n",
    "plt.ylabel('Number of Cases', fontsize = 12)\n",
    "plt.title('Number of Cases by Illness Classification (2016)', fontsize = 16)\n",
    "plt.show()\n",
    "#type(group_ill_j2022_frame.plot.bar())\n",
    "\n",
    "\n"
   ]
  },
  {
   "cell_type": "code",
   "execution_count": null,
   "metadata": {},
   "outputs": [],
   "source": [
    "pie_count = df.groupby('질병코드')['가입자일련번호'].count()\n",
    "print(pie_count)\n",
    "\n",
    "# values = [210963,263485,231709,17225,530582,311089,193516,708997,364442,947636,3575262,747406,627772,2065364, 598544,24520,7458,12763, 253916, 674606, 76668,358,96066]\n",
    "# labels = ['AB', 'B', 'CD48', 'D50', 'E', 'F', 'G', 'H59', 'H60', 'I', 'J', 'K', 'L', 'M', 'N', 'O', 'P', 'Q', 'R', 'ST', 'T', 'U', 'Z' ]\n",
    "\n",
    "plt.subplots(figsize=(20, 7))\n",
    "plt.pie(x = values, labels= labels)\n",
    "plt.title('Pie Graph by Illness Classification (2016)', fontsize = 16)\n",
    "plt.show()\n",
    "#type(group_ill_j2022_frame.plot.bar())"
   ]
  },
  {
   "cell_type": "code",
   "execution_count": null,
   "metadata": {},
   "outputs": [],
   "source": [
    "# Evolution of FCases (2016)\n",
    "df_ill_F = df[df['주상병코드'].str.contains('F', regex=True)]\n",
    "df_count_month=df_ill_F.groupby('요양개시일자(월별)')['주상병코드'].count()\n",
    "\n",
    "\n",
    "f, ax = plt.subplots(figsize = (20, 7))\n",
    "sns.lineplot(x = df_count_month.index,\n",
    "             y = '주상병코드',\n",
    "              data = df_count_month.to_frame())\n",
    "plt.grid(True)\n",
    "plt.xlabel('Month', fontsize=12 )\n",
    "plt.ylabel('Number of Cases', fontsize=12)\n",
    "plt.title('Evolution of I Cases (2016)', fontsize=16)"
   ]
  }
 ],
 "metadata": {
  "kernelspec": {
   "display_name": "Python 3",
   "language": "python",
   "name": "python3"
  },
  "language_info": {
   "codemirror_mode": {
    "name": "ipython",
    "version": 3
   },
   "file_extension": ".py",
   "mimetype": "text/x-python",
   "name": "python",
   "nbconvert_exporter": "python",
   "pygments_lexer": "ipython3",
   "version": "3.7.2"
  }
 },
 "nbformat": 4,
 "nbformat_minor": 4
}
